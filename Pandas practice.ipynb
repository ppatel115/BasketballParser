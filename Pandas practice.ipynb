{
 "cells": [
  {
   "cell_type": "code",
   "execution_count": 3,
   "metadata": {
    "collapsed": true
   },
   "outputs": [],
   "source": [
    "import pandas as pd"
   ]
  },
  {
   "cell_type": "code",
   "execution_count": 11,
   "metadata": {},
   "outputs": [],
   "source": [
    "data_kentucky = pd.read_csv(\"kentucky1.csv\")\n"
   ]
  },
  {
   "cell_type": "code",
   "execution_count": 24,
   "metadata": {},
   "outputs": [
    {
     "name": "stdout",
     "output_type": "stream",
     "text": [
      "0      5.250000\n",
      "1      0.000000\n",
      "2      0.650000\n",
      "3      0.233333\n",
      "4      0.750000\n",
      "5      0.816667\n",
      "6      0.000000\n",
      "7      0.400000\n",
      "8      0.000000\n",
      "9      1.000000\n",
      "10     1.550000\n",
      "11     0.000000\n",
      "12     1.983333\n",
      "13     0.000000\n",
      "14     2.233333\n",
      "15     0.000000\n",
      "16     0.000000\n",
      "17     0.750000\n",
      "18     0.116667\n",
      "19     0.250000\n",
      "20     1.700000\n",
      "21     0.000000\n",
      "22     0.433333\n",
      "23     0.000000\n",
      "24     1.283333\n",
      "25     0.600000\n",
      "26     0.000000\n",
      "27     1.733333\n",
      "28     2.866667\n",
      "29     0.000000\n",
      "30     0.150000\n",
      "31     3.116667\n",
      "32     0.366667\n",
      "33     1.100000\n",
      "34     0.600000\n",
      "35     0.400000\n",
      "36     0.000000\n",
      "37     2.133333\n",
      "38     0.000000\n",
      "39     1.583333\n",
      "40     0.000000\n",
      "41     1.316667\n",
      "42     0.000000\n",
      "43     0.883333\n",
      "44     0.000000\n",
      "45     1.050000\n",
      "46     0.833333\n",
      "47     0.966667\n",
      "48     0.000000\n",
      "49     0.133333\n",
      "50     0.216667\n",
      "51     0.000000\n",
      "52     0.016667\n",
      "53     0.100000\n",
      "54     0.100000\n",
      "55     0.233333\n",
      "56     0.100000\n",
      "min         NaN\n",
      "Name: min, dtype: float64\n",
      "nan\n"
     ]
    }
   ],
   "source": [
    "\n",
    "data_kentucky.loc['min'] = (data_kentucky['Start Time']-data_kentucky['Finish Time'])/60\n",
    "print(data_kentucky['min'])\n",
    "a = sum(data_kentucky['min'])\n",
    "print(a)\n",
    "      \n"
   ]
  },
  {
   "cell_type": "code",
   "execution_count": null,
   "metadata": {
    "collapsed": true
   },
   "outputs": [],
   "source": []
  }
 ],
 "metadata": {
  "kernelspec": {
   "display_name": "Python 3",
   "language": "python",
   "name": "python3"
  },
  "language_info": {
   "codemirror_mode": {
    "name": "ipython",
    "version": 3
   },
   "file_extension": ".py",
   "mimetype": "text/x-python",
   "name": "python",
   "nbconvert_exporter": "python",
   "pygments_lexer": "ipython3",
   "version": "3.6.3"
  }
 },
 "nbformat": 4,
 "nbformat_minor": 2
}
